{
 "cells": [
  {
   "cell_type": "code",
   "execution_count": 1,
   "id": "cba35944",
   "metadata": {},
   "outputs": [],
   "source": [
    "import pandas as pd"
   ]
  },
  {
   "cell_type": "code",
   "execution_count": 2,
   "id": "2d12c6dc",
   "metadata": {},
   "outputs": [],
   "source": [
    "df = pd.read_csv('data.csv')"
   ]
  },
  {
   "cell_type": "code",
   "execution_count": 3,
   "id": "4c24a292",
   "metadata": {},
   "outputs": [],
   "source": [
    "schema_df = pd.read_csv('schema.csv') \n",
    "#schema_df.info()\n",
    "#schema_df=schema_df.question.iloc[3:]"
   ]
  },
  {
   "cell_type": "code",
   "execution_count": 4,
   "id": "9c9788c0",
   "metadata": {
    "scrolled": true
   },
   "outputs": [
    {
     "data": {
      "text/html": [
       "<div>\n",
       "<style scoped>\n",
       "    .dataframe tbody tr th:only-of-type {\n",
       "        vertical-align: middle;\n",
       "    }\n",
       "\n",
       "    .dataframe tbody tr th {\n",
       "        vertical-align: top;\n",
       "    }\n",
       "\n",
       "    .dataframe thead th {\n",
       "        text-align: right;\n",
       "    }\n",
       "</style>\n",
       "<table border=\"1\" class=\"dataframe\">\n",
       "  <thead>\n",
       "    <tr style=\"text-align: right;\">\n",
       "      <th></th>\n",
       "      <th>ResponseId</th>\n",
       "      <th>MainBranch</th>\n",
       "      <th>Employment</th>\n",
       "      <th>Country</th>\n",
       "      <th>US_State</th>\n",
       "      <th>UK_Country</th>\n",
       "      <th>EdLevel</th>\n",
       "      <th>Age1stCode</th>\n",
       "      <th>LearnCode</th>\n",
       "      <th>YearsCode</th>\n",
       "      <th>...</th>\n",
       "      <th>Age</th>\n",
       "      <th>Gender</th>\n",
       "      <th>Trans</th>\n",
       "      <th>Sexuality</th>\n",
       "      <th>Ethnicity</th>\n",
       "      <th>Accessibility</th>\n",
       "      <th>MentalHealth</th>\n",
       "      <th>SurveyLength</th>\n",
       "      <th>SurveyEase</th>\n",
       "      <th>ConvertedCompYearly</th>\n",
       "    </tr>\n",
       "  </thead>\n",
       "  <tbody>\n",
       "    <tr>\n",
       "      <th>0</th>\n",
       "      <td>1</td>\n",
       "      <td>I am a developer by profession</td>\n",
       "      <td>Independent contractor, freelancer, or self-em...</td>\n",
       "      <td>Slovakia</td>\n",
       "      <td>NaN</td>\n",
       "      <td>NaN</td>\n",
       "      <td>Secondary school (e.g. American high school, G...</td>\n",
       "      <td>18 - 24 years</td>\n",
       "      <td>Coding Bootcamp;Other online resources (ex: vi...</td>\n",
       "      <td>NaN</td>\n",
       "      <td>...</td>\n",
       "      <td>25-34 years old</td>\n",
       "      <td>Man</td>\n",
       "      <td>No</td>\n",
       "      <td>Straight / Heterosexual</td>\n",
       "      <td>White or of European descent</td>\n",
       "      <td>None of the above</td>\n",
       "      <td>None of the above</td>\n",
       "      <td>Appropriate in length</td>\n",
       "      <td>Easy</td>\n",
       "      <td>62268.0</td>\n",
       "    </tr>\n",
       "    <tr>\n",
       "      <th>1</th>\n",
       "      <td>2</td>\n",
       "      <td>I am a student who is learning to code</td>\n",
       "      <td>Student, full-time</td>\n",
       "      <td>Netherlands</td>\n",
       "      <td>NaN</td>\n",
       "      <td>NaN</td>\n",
       "      <td>Bachelor’s degree (B.A., B.S., B.Eng., etc.)</td>\n",
       "      <td>11 - 17 years</td>\n",
       "      <td>Other online resources (ex: videos, blogs, etc...</td>\n",
       "      <td>7</td>\n",
       "      <td>...</td>\n",
       "      <td>18-24 years old</td>\n",
       "      <td>Man</td>\n",
       "      <td>No</td>\n",
       "      <td>Straight / Heterosexual</td>\n",
       "      <td>White or of European descent</td>\n",
       "      <td>None of the above</td>\n",
       "      <td>None of the above</td>\n",
       "      <td>Appropriate in length</td>\n",
       "      <td>Easy</td>\n",
       "      <td>NaN</td>\n",
       "    </tr>\n",
       "    <tr>\n",
       "      <th>2</th>\n",
       "      <td>3</td>\n",
       "      <td>I am not primarily a developer, but I write co...</td>\n",
       "      <td>Student, full-time</td>\n",
       "      <td>Russian Federation</td>\n",
       "      <td>NaN</td>\n",
       "      <td>NaN</td>\n",
       "      <td>Bachelor’s degree (B.A., B.S., B.Eng., etc.)</td>\n",
       "      <td>11 - 17 years</td>\n",
       "      <td>Other online resources (ex: videos, blogs, etc...</td>\n",
       "      <td>NaN</td>\n",
       "      <td>...</td>\n",
       "      <td>18-24 years old</td>\n",
       "      <td>Man</td>\n",
       "      <td>No</td>\n",
       "      <td>Prefer not to say</td>\n",
       "      <td>Prefer not to say</td>\n",
       "      <td>None of the above</td>\n",
       "      <td>None of the above</td>\n",
       "      <td>Appropriate in length</td>\n",
       "      <td>Easy</td>\n",
       "      <td>NaN</td>\n",
       "    </tr>\n",
       "    <tr>\n",
       "      <th>3</th>\n",
       "      <td>4</td>\n",
       "      <td>I am a developer by profession</td>\n",
       "      <td>Employed full-time</td>\n",
       "      <td>Austria</td>\n",
       "      <td>NaN</td>\n",
       "      <td>NaN</td>\n",
       "      <td>Master’s degree (M.A., M.S., M.Eng., MBA, etc.)</td>\n",
       "      <td>11 - 17 years</td>\n",
       "      <td>NaN</td>\n",
       "      <td>NaN</td>\n",
       "      <td>...</td>\n",
       "      <td>35-44 years old</td>\n",
       "      <td>Man</td>\n",
       "      <td>No</td>\n",
       "      <td>Straight / Heterosexual</td>\n",
       "      <td>White or of European descent</td>\n",
       "      <td>I am deaf / hard of hearing</td>\n",
       "      <td>NaN</td>\n",
       "      <td>Appropriate in length</td>\n",
       "      <td>Neither easy nor difficult</td>\n",
       "      <td>NaN</td>\n",
       "    </tr>\n",
       "    <tr>\n",
       "      <th>4</th>\n",
       "      <td>5</td>\n",
       "      <td>I am a developer by profession</td>\n",
       "      <td>Independent contractor, freelancer, or self-em...</td>\n",
       "      <td>United Kingdom of Great Britain and Northern I...</td>\n",
       "      <td>NaN</td>\n",
       "      <td>England</td>\n",
       "      <td>Master’s degree (M.A., M.S., M.Eng., MBA, etc.)</td>\n",
       "      <td>5 - 10 years</td>\n",
       "      <td>Friend or family member</td>\n",
       "      <td>17</td>\n",
       "      <td>...</td>\n",
       "      <td>25-34 years old</td>\n",
       "      <td>Man</td>\n",
       "      <td>No</td>\n",
       "      <td>NaN</td>\n",
       "      <td>White or of European descent</td>\n",
       "      <td>None of the above</td>\n",
       "      <td>NaN</td>\n",
       "      <td>Appropriate in length</td>\n",
       "      <td>Easy</td>\n",
       "      <td>NaN</td>\n",
       "    </tr>\n",
       "  </tbody>\n",
       "</table>\n",
       "<p>5 rows × 48 columns</p>\n",
       "</div>"
      ],
      "text/plain": [
       "   ResponseId                                         MainBranch  \\\n",
       "0           1                     I am a developer by profession   \n",
       "1           2             I am a student who is learning to code   \n",
       "2           3  I am not primarily a developer, but I write co...   \n",
       "3           4                     I am a developer by profession   \n",
       "4           5                     I am a developer by profession   \n",
       "\n",
       "                                          Employment  \\\n",
       "0  Independent contractor, freelancer, or self-em...   \n",
       "1                                 Student, full-time   \n",
       "2                                 Student, full-time   \n",
       "3                                 Employed full-time   \n",
       "4  Independent contractor, freelancer, or self-em...   \n",
       "\n",
       "                                             Country US_State UK_Country  \\\n",
       "0                                           Slovakia      NaN        NaN   \n",
       "1                                        Netherlands      NaN        NaN   \n",
       "2                                 Russian Federation      NaN        NaN   \n",
       "3                                            Austria      NaN        NaN   \n",
       "4  United Kingdom of Great Britain and Northern I...      NaN    England   \n",
       "\n",
       "                                             EdLevel     Age1stCode  \\\n",
       "0  Secondary school (e.g. American high school, G...  18 - 24 years   \n",
       "1       Bachelor’s degree (B.A., B.S., B.Eng., etc.)  11 - 17 years   \n",
       "2       Bachelor’s degree (B.A., B.S., B.Eng., etc.)  11 - 17 years   \n",
       "3    Master’s degree (M.A., M.S., M.Eng., MBA, etc.)  11 - 17 years   \n",
       "4    Master’s degree (M.A., M.S., M.Eng., MBA, etc.)   5 - 10 years   \n",
       "\n",
       "                                           LearnCode YearsCode  ...  \\\n",
       "0  Coding Bootcamp;Other online resources (ex: vi...       NaN  ...   \n",
       "1  Other online resources (ex: videos, blogs, etc...         7  ...   \n",
       "2  Other online resources (ex: videos, blogs, etc...       NaN  ...   \n",
       "3                                                NaN       NaN  ...   \n",
       "4                            Friend or family member        17  ...   \n",
       "\n",
       "               Age Gender Trans                Sexuality  \\\n",
       "0  25-34 years old    Man    No  Straight / Heterosexual   \n",
       "1  18-24 years old    Man    No  Straight / Heterosexual   \n",
       "2  18-24 years old    Man    No        Prefer not to say   \n",
       "3  35-44 years old    Man    No  Straight / Heterosexual   \n",
       "4  25-34 years old    Man    No                      NaN   \n",
       "\n",
       "                      Ethnicity                Accessibility  \\\n",
       "0  White or of European descent            None of the above   \n",
       "1  White or of European descent            None of the above   \n",
       "2             Prefer not to say            None of the above   \n",
       "3  White or of European descent  I am deaf / hard of hearing   \n",
       "4  White or of European descent            None of the above   \n",
       "\n",
       "        MentalHealth           SurveyLength                  SurveyEase  \\\n",
       "0  None of the above  Appropriate in length                        Easy   \n",
       "1  None of the above  Appropriate in length                        Easy   \n",
       "2  None of the above  Appropriate in length                        Easy   \n",
       "3                NaN  Appropriate in length  Neither easy nor difficult   \n",
       "4                NaN  Appropriate in length                        Easy   \n",
       "\n",
       "  ConvertedCompYearly  \n",
       "0             62268.0  \n",
       "1                 NaN  \n",
       "2                 NaN  \n",
       "3                 NaN  \n",
       "4                 NaN  \n",
       "\n",
       "[5 rows x 48 columns]"
      ]
     },
     "execution_count": 4,
     "metadata": {},
     "output_type": "execute_result"
    }
   ],
   "source": [
    "df.head()"
   ]
  },
  {
   "cell_type": "code",
   "execution_count": 5,
   "id": "346f7868",
   "metadata": {
    "scrolled": true
   },
   "outputs": [],
   "source": [
    "#schema_df.iloc[3:]"
   ]
  },
  {
   "cell_type": "code",
   "execution_count": 6,
   "id": "59eff51b",
   "metadata": {},
   "outputs": [
    {
     "data": {
      "text/plain": [
       "(48, 6)"
      ]
     },
     "execution_count": 6,
     "metadata": {},
     "output_type": "execute_result"
    }
   ],
   "source": [
    "schema_df.shape"
   ]
  },
  {
   "cell_type": "code",
   "execution_count": 7,
   "id": "167331c7",
   "metadata": {
    "scrolled": true
   },
   "outputs": [
    {
     "data": {
      "text/plain": [
       "(83439, 48)"
      ]
     },
     "execution_count": 7,
     "metadata": {},
     "output_type": "execute_result"
    }
   ],
   "source": [
    "df.shape"
   ]
  },
  {
   "cell_type": "code",
   "execution_count": 8,
   "id": "9946632a",
   "metadata": {},
   "outputs": [],
   "source": [
    "qn = (schema_df['qname']=='NEWOtherComms')"
   ]
  },
  {
   "cell_type": "code",
   "execution_count": 9,
   "id": "f0fba9ad",
   "metadata": {},
   "outputs": [
    {
     "data": {
      "text/plain": [
       "35    Are you a member of any other online developer...\n",
       "Name: question, dtype: object"
      ]
     },
     "execution_count": 9,
     "metadata": {},
     "output_type": "execute_result"
    }
   ],
   "source": [
    "schema_df.loc[qn,'question']"
   ]
  },
  {
   "cell_type": "code",
   "execution_count": 10,
   "id": "d24f3032",
   "metadata": {},
   "outputs": [],
   "source": [
    "pd.set_option('display.max_columns',df.shape[1])\n",
    "#pd.set_option('display.latex.repr',False)\n",
    "pd.set_option('display.max_rows',100)"
   ]
  },
  {
   "cell_type": "code",
   "execution_count": 11,
   "id": "6fa3f5fc",
   "metadata": {},
   "outputs": [
    {
     "data": {
      "text/plain": [
       "Poland    1805\n",
       "Name: Country, dtype: int64"
      ]
     },
     "execution_count": 11,
     "metadata": {},
     "output_type": "execute_result"
    }
   ],
   "source": [
    "filt = (df['Country']=='Poland')\n",
    "df.loc[filt,'Country'].value_counts()#.tolist()#(normalize=True)"
   ]
  },
  {
   "cell_type": "code",
   "execution_count": 12,
   "id": "b2847ee0",
   "metadata": {},
   "outputs": [
    {
     "data": {
      "text/plain": [
       "25-34 years old       0.395209\n",
       "18-24 years old       0.254748\n",
       "35-44 years old       0.184244\n",
       "45-54 years old       0.066402\n",
       "Under 18 years old    0.065237\n",
       "55-64 years old       0.022073\n",
       "Prefer not to say     0.006978\n",
       "65 years or older     0.005109\n",
       "Name: Age, dtype: float64"
      ]
     },
     "execution_count": 12,
     "metadata": {},
     "output_type": "execute_result"
    }
   ],
   "source": [
    "df.loc[0:,'Age'].value_counts(normalize=True)"
   ]
  },
  {
   "cell_type": "code",
   "execution_count": 13,
   "id": "f84ec40a",
   "metadata": {
    "scrolled": true
   },
   "outputs": [],
   "source": [
    "#df.loc[0:20000,'Age'].tolist()"
   ]
  },
  {
   "cell_type": "code",
   "execution_count": 14,
   "id": "656a2b87",
   "metadata": {
    "scrolled": true
   },
   "outputs": [
    {
     "data": {
      "text/html": [
       "<div>\n",
       "<style scoped>\n",
       "    .dataframe tbody tr th:only-of-type {\n",
       "        vertical-align: middle;\n",
       "    }\n",
       "\n",
       "    .dataframe tbody tr th {\n",
       "        vertical-align: top;\n",
       "    }\n",
       "\n",
       "    .dataframe thead th {\n",
       "        text-align: right;\n",
       "    }\n",
       "</style>\n",
       "<table border=\"1\" class=\"dataframe\">\n",
       "  <thead>\n",
       "    <tr style=\"text-align: right;\">\n",
       "      <th></th>\n",
       "      <th>Age1stCode</th>\n",
       "      <th>Age</th>\n",
       "    </tr>\n",
       "  </thead>\n",
       "  <tbody>\n",
       "    <tr>\n",
       "      <th>50</th>\n",
       "      <td>18 - 24 years</td>\n",
       "      <td>25-34 years old</td>\n",
       "    </tr>\n",
       "    <tr>\n",
       "      <th>51</th>\n",
       "      <td>11 - 17 years</td>\n",
       "      <td>25-34 years old</td>\n",
       "    </tr>\n",
       "    <tr>\n",
       "      <th>52</th>\n",
       "      <td>11 - 17 years</td>\n",
       "      <td>25-34 years old</td>\n",
       "    </tr>\n",
       "    <tr>\n",
       "      <th>53</th>\n",
       "      <td>18 - 24 years</td>\n",
       "      <td>25-34 years old</td>\n",
       "    </tr>\n",
       "    <tr>\n",
       "      <th>54</th>\n",
       "      <td>25 - 34 years</td>\n",
       "      <td>25-34 years old</td>\n",
       "    </tr>\n",
       "    <tr>\n",
       "      <th>55</th>\n",
       "      <td>5 - 10 years</td>\n",
       "      <td>35-44 years old</td>\n",
       "    </tr>\n",
       "    <tr>\n",
       "      <th>56</th>\n",
       "      <td>18 - 24 years</td>\n",
       "      <td>25-34 years old</td>\n",
       "    </tr>\n",
       "    <tr>\n",
       "      <th>57</th>\n",
       "      <td>5 - 10 years</td>\n",
       "      <td>35-44 years old</td>\n",
       "    </tr>\n",
       "    <tr>\n",
       "      <th>58</th>\n",
       "      <td>11 - 17 years</td>\n",
       "      <td>25-34 years old</td>\n",
       "    </tr>\n",
       "    <tr>\n",
       "      <th>59</th>\n",
       "      <td>5 - 10 years</td>\n",
       "      <td>Under 18 years old</td>\n",
       "    </tr>\n",
       "    <tr>\n",
       "      <th>60</th>\n",
       "      <td>11 - 17 years</td>\n",
       "      <td>18-24 years old</td>\n",
       "    </tr>\n",
       "  </tbody>\n",
       "</table>\n",
       "</div>"
      ],
      "text/plain": [
       "       Age1stCode                 Age\n",
       "50  18 - 24 years     25-34 years old\n",
       "51  11 - 17 years     25-34 years old\n",
       "52  11 - 17 years     25-34 years old\n",
       "53  18 - 24 years     25-34 years old\n",
       "54  25 - 34 years     25-34 years old\n",
       "55   5 - 10 years     35-44 years old\n",
       "56  18 - 24 years     25-34 years old\n",
       "57   5 - 10 years     35-44 years old\n",
       "58  11 - 17 years     25-34 years old\n",
       "59   5 - 10 years  Under 18 years old\n",
       "60  11 - 17 years     18-24 years old"
      ]
     },
     "execution_count": 14,
     "metadata": {},
     "output_type": "execute_result"
    }
   ],
   "source": [
    "df.loc[50:60,['Age1stCode','Age']]"
   ]
  },
  {
   "cell_type": "code",
   "execution_count": 15,
   "id": "0afc1afe",
   "metadata": {},
   "outputs": [],
   "source": [
    "df.set_index('ResponseId',inplace=True)"
   ]
  },
  {
   "cell_type": "code",
   "execution_count": 16,
   "id": "4550883d",
   "metadata": {},
   "outputs": [],
   "source": [
    "df.reset_index(inplace=True)"
   ]
  },
  {
   "cell_type": "code",
   "execution_count": 17,
   "id": "d0c85185",
   "metadata": {
    "scrolled": true
   },
   "outputs": [],
   "source": [
    "#df.iloc[0]"
   ]
  },
  {
   "cell_type": "code",
   "execution_count": 18,
   "id": "1e6b4a30",
   "metadata": {},
   "outputs": [
    {
     "data": {
      "text/plain": [
       "0                                                 Slovakia\n",
       "1                                              Netherlands\n",
       "2                                       Russian Federation\n",
       "3                                                  Austria\n",
       "4        United Kingdom of Great Britain and Northern I...\n",
       "                               ...                        \n",
       "83434                             United States of America\n",
       "83435                                                Benin\n",
       "83436                             United States of America\n",
       "83437                                               Canada\n",
       "83438                                               Brazil\n",
       "Name: Country, Length: 83439, dtype: object"
      ]
     },
     "execution_count": 18,
     "metadata": {},
     "output_type": "execute_result"
    }
   ],
   "source": [
    "df['Country']"
   ]
  },
  {
   "cell_type": "code",
   "execution_count": 19,
   "id": "5a60b365",
   "metadata": {},
   "outputs": [],
   "source": [
    "#filt = (df['LanguageHaveWorkedWith']=='Python')"
   ]
  },
  {
   "cell_type": "code",
   "execution_count": 20,
   "id": "7f870f39",
   "metadata": {},
   "outputs": [],
   "source": [
    "filt = df['LanguageHaveWorkedWith'].str.contains('Python', na=False) "
   ]
  },
  {
   "cell_type": "code",
   "execution_count": 21,
   "id": "3062f063",
   "metadata": {},
   "outputs": [],
   "source": [
    "countries=['Slovakia','Poland','Russian Federation']"
   ]
  },
  {
   "cell_type": "code",
   "execution_count": 22,
   "id": "6b43b563",
   "metadata": {},
   "outputs": [],
   "source": [
    "filts = (df['Country'].isin(countries)) & ~(df['LanguageHaveWorkedWith'].str.contains('Python', na=False)) &( df['Age'].between('25-34 years old','35-44 years old'))"
   ]
  },
  {
   "cell_type": "code",
   "execution_count": 23,
   "id": "2c6e97a4",
   "metadata": {},
   "outputs": [],
   "source": [
    "# .isin(countries)    .str.contains('Python')\n",
    "filt = (df['Country'].isin(countries))"
   ]
  },
  {
   "cell_type": "code",
   "execution_count": 24,
   "id": "f4941319",
   "metadata": {
    "scrolled": true
   },
   "outputs": [
    {
     "data": {
      "text/html": [
       "<div>\n",
       "<style scoped>\n",
       "    .dataframe tbody tr th:only-of-type {\n",
       "        vertical-align: middle;\n",
       "    }\n",
       "\n",
       "    .dataframe tbody tr th {\n",
       "        vertical-align: top;\n",
       "    }\n",
       "\n",
       "    .dataframe thead th {\n",
       "        text-align: right;\n",
       "    }\n",
       "</style>\n",
       "<table border=\"1\" class=\"dataframe\">\n",
       "  <thead>\n",
       "    <tr style=\"text-align: right;\">\n",
       "      <th></th>\n",
       "      <th>LanguageHaveWorkedWith</th>\n",
       "      <th>Country</th>\n",
       "      <th>Age</th>\n",
       "    </tr>\n",
       "  </thead>\n",
       "  <tbody>\n",
       "    <tr>\n",
       "      <th>0</th>\n",
       "      <td>C++;HTML/CSS;JavaScript;Objective-C;PHP;Swift</td>\n",
       "      <td>Slovakia</td>\n",
       "      <td>25-34 years old</td>\n",
       "    </tr>\n",
       "    <tr>\n",
       "      <th>29</th>\n",
       "      <td>Delphi;Java;SQL</td>\n",
       "      <td>Russian Federation</td>\n",
       "      <td>35-44 years old</td>\n",
       "    </tr>\n",
       "    <tr>\n",
       "      <th>32</th>\n",
       "      <td>C++;HTML/CSS;JavaScript;PHP;SQL</td>\n",
       "      <td>Poland</td>\n",
       "      <td>25-34 years old</td>\n",
       "    </tr>\n",
       "    <tr>\n",
       "      <th>135</th>\n",
       "      <td>Bash/Shell;C;HTML/CSS;Java;JavaScript;Node.js;...</td>\n",
       "      <td>Slovakia</td>\n",
       "      <td>25-34 years old</td>\n",
       "    </tr>\n",
       "    <tr>\n",
       "      <th>146</th>\n",
       "      <td>C++;Java;Kotlin;Objective-C;Swift</td>\n",
       "      <td>Russian Federation</td>\n",
       "      <td>25-34 years old</td>\n",
       "    </tr>\n",
       "    <tr>\n",
       "      <th>...</th>\n",
       "      <td>...</td>\n",
       "      <td>...</td>\n",
       "      <td>...</td>\n",
       "    </tr>\n",
       "    <tr>\n",
       "      <th>83108</th>\n",
       "      <td>Bash/Shell;C++;Go;Perl</td>\n",
       "      <td>Russian Federation</td>\n",
       "      <td>35-44 years old</td>\n",
       "    </tr>\n",
       "    <tr>\n",
       "      <th>83110</th>\n",
       "      <td>Java;Kotlin;SQL</td>\n",
       "      <td>Poland</td>\n",
       "      <td>25-34 years old</td>\n",
       "    </tr>\n",
       "    <tr>\n",
       "      <th>83203</th>\n",
       "      <td>Bash/Shell;C#;Ruby;Rust</td>\n",
       "      <td>Poland</td>\n",
       "      <td>25-34 years old</td>\n",
       "    </tr>\n",
       "    <tr>\n",
       "      <th>83294</th>\n",
       "      <td>Node.js;PHP</td>\n",
       "      <td>Russian Federation</td>\n",
       "      <td>25-34 years old</td>\n",
       "    </tr>\n",
       "    <tr>\n",
       "      <th>83324</th>\n",
       "      <td>HTML/CSS;JavaScript</td>\n",
       "      <td>Poland</td>\n",
       "      <td>25-34 years old</td>\n",
       "    </tr>\n",
       "  </tbody>\n",
       "</table>\n",
       "<p>1358 rows × 3 columns</p>\n",
       "</div>"
      ],
      "text/plain": [
       "                                  LanguageHaveWorkedWith             Country  \\\n",
       "0          C++;HTML/CSS;JavaScript;Objective-C;PHP;Swift            Slovakia   \n",
       "29                                       Delphi;Java;SQL  Russian Federation   \n",
       "32                       C++;HTML/CSS;JavaScript;PHP;SQL              Poland   \n",
       "135    Bash/Shell;C;HTML/CSS;Java;JavaScript;Node.js;...            Slovakia   \n",
       "146                    C++;Java;Kotlin;Objective-C;Swift  Russian Federation   \n",
       "...                                                  ...                 ...   \n",
       "83108                             Bash/Shell;C++;Go;Perl  Russian Federation   \n",
       "83110                                    Java;Kotlin;SQL              Poland   \n",
       "83203                            Bash/Shell;C#;Ruby;Rust              Poland   \n",
       "83294                                        Node.js;PHP  Russian Federation   \n",
       "83324                                HTML/CSS;JavaScript              Poland   \n",
       "\n",
       "                   Age  \n",
       "0      25-34 years old  \n",
       "29     35-44 years old  \n",
       "32     25-34 years old  \n",
       "135    25-34 years old  \n",
       "146    25-34 years old  \n",
       "...                ...  \n",
       "83108  35-44 years old  \n",
       "83110  25-34 years old  \n",
       "83203  25-34 years old  \n",
       "83294  25-34 years old  \n",
       "83324  25-34 years old  \n",
       "\n",
       "[1358 rows x 3 columns]"
      ]
     },
     "execution_count": 24,
     "metadata": {},
     "output_type": "execute_result"
    }
   ],
   "source": [
    "df.loc[filts, ['LanguageHaveWorkedWith','Country','Age']]  #sort_index( ascending=True)"
   ]
  },
  {
   "cell_type": "code",
   "execution_count": 25,
   "id": "e0fd1392",
   "metadata": {
    "scrolled": true
   },
   "outputs": [
    {
     "data": {
      "text/plain": [
       "25-34 years old       306\n",
       "18-24 years old       285\n",
       "35-44 years old       118\n",
       "Under 18 years old     79\n",
       "45-54 years old        15\n",
       "55-64 years old         2\n",
       "Prefer not to say       2\n",
       "65 years or older       1\n",
       "Name: Age, dtype: int64"
      ]
     },
     "execution_count": 25,
     "metadata": {},
     "output_type": "execute_result"
    }
   ],
   "source": [
    "ff= (df['Country']=='Poland') & (df['LanguageHaveWorkedWith'].str.contains('Python'))\n",
    "df.loc[ff,'Age'].value_counts()"
   ]
  },
  {
   "cell_type": "code",
   "execution_count": 26,
   "id": "25fa0269",
   "metadata": {},
   "outputs": [],
   "source": [
    "df.at[32,'Country'] = 'Olkuszanin'"
   ]
  },
  {
   "cell_type": "code",
   "execution_count": 27,
   "id": "75c5771c",
   "metadata": {},
   "outputs": [],
   "source": [
    "def yesOrNo(item):\n",
    "    if item=='Yes': item=True\n",
    "    else: item=False\n",
    "    return item"
   ]
  },
  {
   "cell_type": "code",
   "execution_count": 28,
   "id": "5f6c5ef8",
   "metadata": {},
   "outputs": [],
   "source": [
    "df['NEWOtherComms']=df['NEWOtherComms'].apply(yesOrNo)"
   ]
  },
  {
   "cell_type": "code",
   "execution_count": 29,
   "id": "0d3e5e88",
   "metadata": {},
   "outputs": [],
   "source": [
    "df['NEWOtherComms']=df['NEWOtherComms'].map({True:'Yeeep',False:'Nope'})"
   ]
  },
  {
   "cell_type": "code",
   "execution_count": 30,
   "id": "0be55caf",
   "metadata": {},
   "outputs": [
    {
     "data": {
      "text/plain": [
       "Windows                              37758\n",
       "Linux-based                          21088\n",
       "MacOS                                20984\n",
       "Windows Subsystem for Linux (WSL)     2743\n",
       "Other (please specify):                575\n",
       "BSD                                    146\n",
       "Name: OpSys, dtype: int64"
      ]
     },
     "execution_count": 30,
     "metadata": {},
     "output_type": "execute_result"
    }
   ],
   "source": [
    "df['OpSys'].value_counts()"
   ]
  },
  {
   "cell_type": "code",
   "execution_count": 31,
   "id": "5fde9d3b",
   "metadata": {},
   "outputs": [
    {
     "data": {
      "text/plain": [
       "56211.0"
      ]
     },
     "execution_count": 31,
     "metadata": {},
     "output_type": "execute_result"
    }
   ],
   "source": [
    "df['ConvertedCompYearly'].median()"
   ]
  },
  {
   "cell_type": "code",
   "execution_count": 32,
   "id": "dfee5f8c",
   "metadata": {},
   "outputs": [
    {
     "data": {
      "text/html": [
       "<div>\n",
       "<style scoped>\n",
       "    .dataframe tbody tr th:only-of-type {\n",
       "        vertical-align: middle;\n",
       "    }\n",
       "\n",
       "    .dataframe tbody tr th {\n",
       "        vertical-align: top;\n",
       "    }\n",
       "\n",
       "    .dataframe thead th {\n",
       "        text-align: right;\n",
       "    }\n",
       "</style>\n",
       "<table border=\"1\" class=\"dataframe\">\n",
       "  <thead>\n",
       "    <tr style=\"text-align: right;\">\n",
       "      <th></th>\n",
       "      <th>ResponseId</th>\n",
       "      <th>CompTotal</th>\n",
       "      <th>ConvertedCompYearly</th>\n",
       "    </tr>\n",
       "  </thead>\n",
       "  <tbody>\n",
       "    <tr>\n",
       "      <th>count</th>\n",
       "      <td>83439.000000</td>\n",
       "      <td>4.718300e+04</td>\n",
       "      <td>4.684400e+04</td>\n",
       "    </tr>\n",
       "    <tr>\n",
       "      <th>mean</th>\n",
       "      <td>41720.000000</td>\n",
       "      <td>2.119407e+69</td>\n",
       "      <td>1.184262e+05</td>\n",
       "    </tr>\n",
       "    <tr>\n",
       "      <th>std</th>\n",
       "      <td>24086.908893</td>\n",
       "      <td>4.603702e+71</td>\n",
       "      <td>5.272944e+05</td>\n",
       "    </tr>\n",
       "    <tr>\n",
       "      <th>min</th>\n",
       "      <td>1.000000</td>\n",
       "      <td>0.000000e+00</td>\n",
       "      <td>1.000000e+00</td>\n",
       "    </tr>\n",
       "    <tr>\n",
       "      <th>25%</th>\n",
       "      <td>20860.500000</td>\n",
       "      <td>1.600000e+04</td>\n",
       "      <td>2.702500e+04</td>\n",
       "    </tr>\n",
       "    <tr>\n",
       "      <th>50%</th>\n",
       "      <td>41720.000000</td>\n",
       "      <td>6.700000e+04</td>\n",
       "      <td>5.621100e+04</td>\n",
       "    </tr>\n",
       "    <tr>\n",
       "      <th>75%</th>\n",
       "      <td>62579.500000</td>\n",
       "      <td>1.400000e+05</td>\n",
       "      <td>1.000000e+05</td>\n",
       "    </tr>\n",
       "    <tr>\n",
       "      <th>max</th>\n",
       "      <td>83439.000000</td>\n",
       "      <td>1.000000e+74</td>\n",
       "      <td>4.524131e+07</td>\n",
       "    </tr>\n",
       "  </tbody>\n",
       "</table>\n",
       "</div>"
      ],
      "text/plain": [
       "         ResponseId     CompTotal  ConvertedCompYearly\n",
       "count  83439.000000  4.718300e+04         4.684400e+04\n",
       "mean   41720.000000  2.119407e+69         1.184262e+05\n",
       "std    24086.908893  4.603702e+71         5.272944e+05\n",
       "min        1.000000  0.000000e+00         1.000000e+00\n",
       "25%    20860.500000  1.600000e+04         2.702500e+04\n",
       "50%    41720.000000  6.700000e+04         5.621100e+04\n",
       "75%    62579.500000  1.400000e+05         1.000000e+05\n",
       "max    83439.000000  1.000000e+74         4.524131e+07"
      ]
     },
     "execution_count": 32,
     "metadata": {},
     "output_type": "execute_result"
    }
   ],
   "source": [
    "df.describe()"
   ]
  },
  {
   "cell_type": "code",
   "execution_count": 33,
   "id": "356633db",
   "metadata": {},
   "outputs": [],
   "source": [
    "country = df.groupby(['Country'])"
   ]
  },
  {
   "cell_type": "code",
   "execution_count": 34,
   "id": "047e6c43",
   "metadata": {},
   "outputs": [],
   "source": [
    "#country.get_group('Poland')"
   ]
  },
  {
   "cell_type": "code",
   "execution_count": 35,
   "id": "76303edf",
   "metadata": {},
   "outputs": [
    {
     "data": {
      "text/plain": [
       "Country      OpSys                            \n",
       "Afghanistan  Windows                              28\n",
       "             Linux-based                          18\n",
       "             MacOS                                 6\n",
       "             Other (please specify):               6\n",
       "             BSD                                   2\n",
       "                                                  ..\n",
       "Zimbabwe     Windows                              20\n",
       "             Linux-based                           9\n",
       "             MacOS                                 5\n",
       "             Other (please specify):               1\n",
       "             Windows Subsystem for Linux (WSL)     1\n",
       "Name: OpSys, Length: 751, dtype: int64"
      ]
     },
     "execution_count": 35,
     "metadata": {},
     "output_type": "execute_result"
    }
   ],
   "source": [
    "country['OpSys'].value_counts()#.loc['Poland']"
   ]
  },
  {
   "cell_type": "code",
   "execution_count": 36,
   "id": "71599d12",
   "metadata": {
    "scrolled": true
   },
   "outputs": [
    {
     "data": {
      "text/plain": [
       "Country\n",
       "Iran, Islamic Republic of...    80000000.0\n",
       "South Korea                     32000000.0\n",
       "Republic of Korea               30000000.0\n",
       "Viet Nam                        18000000.0\n",
       "Indonesia                        9000000.0\n",
       "Japan                            5000000.0\n",
       "Colombia                         4500000.0\n",
       "Paraguay                         4450000.0\n",
       "Guinea                           4000000.0\n",
       "Uganda                           2500000.0\n",
       "Name: CompTotal, dtype: float64"
      ]
     },
     "execution_count": 36,
     "metadata": {},
     "output_type": "execute_result"
    }
   ],
   "source": [
    "country['CompTotal'].median().sort_values(ascending=False).head(10)"
   ]
  },
  {
   "cell_type": "code",
   "execution_count": 37,
   "id": "4692a7a4",
   "metadata": {},
   "outputs": [
    {
     "data": {
      "text/plain": [
       "120000.0"
      ]
     },
     "execution_count": 37,
     "metadata": {},
     "output_type": "execute_result"
    }
   ],
   "source": [
    "country['CompTotal'].median().loc['United States of America']"
   ]
  },
  {
   "cell_type": "code",
   "execution_count": 38,
   "id": "9fff43e7",
   "metadata": {},
   "outputs": [
    {
     "data": {
      "text/plain": [
       "mean      48913.12228\n",
       "median    52600.00000\n",
       "Name: Germany, dtype: float64"
      ]
     },
     "execution_count": 38,
     "metadata": {},
     "output_type": "execute_result"
    }
   ],
   "source": [
    "country['CompTotal'].agg(['mean','median']).loc['Germany']"
   ]
  },
  {
   "cell_type": "code",
   "execution_count": 39,
   "id": "bdf6b95e",
   "metadata": {},
   "outputs": [],
   "source": [
    "pkp = country['LanguageHaveWorkedWith'].apply(lambda item: item.str.contains('Java').sum())"
   ]
  },
  {
   "cell_type": "code",
   "execution_count": 40,
   "id": "6cf48213",
   "metadata": {},
   "outputs": [],
   "source": [
    "evr = df['Country'].value_counts()"
   ]
  },
  {
   "cell_type": "code",
   "execution_count": 41,
   "id": "b5984153",
   "metadata": {},
   "outputs": [],
   "source": [
    "ans = pd.concat([pkp,evr], axis='columns') "
   ]
  },
  {
   "cell_type": "code",
   "execution_count": 42,
   "id": "43760c81",
   "metadata": {},
   "outputs": [],
   "source": [
    "ans.rename(columns={'LanguageHaveWorkedWith':'UsingPython','Country': 'AllPeopleInCountry'}, inplace=True)"
   ]
  },
  {
   "cell_type": "code",
   "execution_count": 43,
   "id": "c2d130ca",
   "metadata": {},
   "outputs": [],
   "source": [
    "ans['%PeopleUsingPython'] = round(ans['UsingPython'] / ans['AllPeopleInCountry'] *100)"
   ]
  },
  {
   "cell_type": "code",
   "execution_count": 44,
   "id": "37e11f08",
   "metadata": {},
   "outputs": [
    {
     "data": {
      "text/plain": [
       "UsingPython           1306.0\n",
       "AllPeopleInCountry    1804.0\n",
       "%PeopleUsingPython      72.0\n",
       "Name: Poland, dtype: float64"
      ]
     },
     "execution_count": 44,
     "metadata": {},
     "output_type": "execute_result"
    }
   ],
   "source": [
    "ans.loc['Poland']"
   ]
  },
  {
   "cell_type": "code",
   "execution_count": 45,
   "id": "529b870a",
   "metadata": {},
   "outputs": [
    {
     "data": {
      "text/html": [
       "<div>\n",
       "<style scoped>\n",
       "    .dataframe tbody tr th:only-of-type {\n",
       "        vertical-align: middle;\n",
       "    }\n",
       "\n",
       "    .dataframe tbody tr th {\n",
       "        vertical-align: top;\n",
       "    }\n",
       "\n",
       "    .dataframe thead th {\n",
       "        text-align: right;\n",
       "    }\n",
       "</style>\n",
       "<table border=\"1\" class=\"dataframe\">\n",
       "  <thead>\n",
       "    <tr style=\"text-align: right;\">\n",
       "      <th></th>\n",
       "      <th>UsingPython</th>\n",
       "      <th>AllPeopleInCountry</th>\n",
       "      <th>%PeopleUsingPython</th>\n",
       "    </tr>\n",
       "  </thead>\n",
       "  <tbody>\n",
       "    <tr>\n",
       "      <th>Liechtenstein</th>\n",
       "      <td>1</td>\n",
       "      <td>1</td>\n",
       "      <td>100.0</td>\n",
       "    </tr>\n",
       "    <tr>\n",
       "      <th>Isle of Man</th>\n",
       "      <td>5</td>\n",
       "      <td>5</td>\n",
       "      <td>100.0</td>\n",
       "    </tr>\n",
       "    <tr>\n",
       "      <th>Burundi</th>\n",
       "      <td>5</td>\n",
       "      <td>5</td>\n",
       "      <td>100.0</td>\n",
       "    </tr>\n",
       "    <tr>\n",
       "      <th>Burkina Faso</th>\n",
       "      <td>4</td>\n",
       "      <td>4</td>\n",
       "      <td>100.0</td>\n",
       "    </tr>\n",
       "    <tr>\n",
       "      <th>Brunei Darussalam</th>\n",
       "      <td>1</td>\n",
       "      <td>1</td>\n",
       "      <td>100.0</td>\n",
       "    </tr>\n",
       "    <tr>\n",
       "      <th>Democratic Republic of the Congo</th>\n",
       "      <td>10</td>\n",
       "      <td>10</td>\n",
       "      <td>100.0</td>\n",
       "    </tr>\n",
       "    <tr>\n",
       "      <th>Togo</th>\n",
       "      <td>7</td>\n",
       "      <td>7</td>\n",
       "      <td>100.0</td>\n",
       "    </tr>\n",
       "    <tr>\n",
       "      <th>Dominica</th>\n",
       "      <td>1</td>\n",
       "      <td>1</td>\n",
       "      <td>100.0</td>\n",
       "    </tr>\n",
       "    <tr>\n",
       "      <th>Gambia</th>\n",
       "      <td>2</td>\n",
       "      <td>2</td>\n",
       "      <td>100.0</td>\n",
       "    </tr>\n",
       "    <tr>\n",
       "      <th>Guinea</th>\n",
       "      <td>2</td>\n",
       "      <td>2</td>\n",
       "      <td>100.0</td>\n",
       "    </tr>\n",
       "  </tbody>\n",
       "</table>\n",
       "</div>"
      ],
      "text/plain": [
       "                                  UsingPython  AllPeopleInCountry  \\\n",
       "Liechtenstein                               1                   1   \n",
       "Isle of Man                                 5                   5   \n",
       "Burundi                                     5                   5   \n",
       "Burkina Faso                                4                   4   \n",
       "Brunei Darussalam                           1                   1   \n",
       "Democratic Republic of the Congo           10                  10   \n",
       "Togo                                        7                   7   \n",
       "Dominica                                    1                   1   \n",
       "Gambia                                      2                   2   \n",
       "Guinea                                      2                   2   \n",
       "\n",
       "                                  %PeopleUsingPython  \n",
       "Liechtenstein                                  100.0  \n",
       "Isle of Man                                    100.0  \n",
       "Burundi                                        100.0  \n",
       "Burkina Faso                                   100.0  \n",
       "Brunei Darussalam                              100.0  \n",
       "Democratic Republic of the Congo               100.0  \n",
       "Togo                                           100.0  \n",
       "Dominica                                       100.0  \n",
       "Gambia                                         100.0  \n",
       "Guinea                                         100.0  "
      ]
     },
     "execution_count": 45,
     "metadata": {},
     "output_type": "execute_result"
    }
   ],
   "source": [
    "ans.sort_values(by='%PeopleUsingPython',ascending=False).head(10)"
   ]
  },
  {
   "cell_type": "code",
   "execution_count": 46,
   "id": "91e94a39",
   "metadata": {},
   "outputs": [
    {
     "data": {
      "text/plain": [
       "array([nan, '7', '17', '3', '4', '6', '16', '12', '15', '10', '40', '9',\n",
       "       '26', '14', '39', '20', '8', '19', '5', 'Less than 1 year', '22',\n",
       "       '2', '1', '34', '21', '13', '25', '24', '30', '31', '18', '38',\n",
       "       'More than 50 years', '27', '41', '42', '35', '23', '28', '11',\n",
       "       '37', '44', '43', '36', '33', '45', '29', '50', '46', '32', '47',\n",
       "       '49', '48'], dtype=object)"
      ]
     },
     "execution_count": 46,
     "metadata": {},
     "output_type": "execute_result"
    }
   ],
   "source": [
    "df['YearsCode'].unique()"
   ]
  },
  {
   "cell_type": "code",
   "execution_count": 47,
   "id": "847c0e6b",
   "metadata": {},
   "outputs": [],
   "source": [
    "df['YearsCode'].replace('More than 50 years',51, inplace=True)"
   ]
  },
  {
   "cell_type": "code",
   "execution_count": 48,
   "id": "350dfeba",
   "metadata": {},
   "outputs": [],
   "source": [
    "df['YearsCode'].replace('Less than 1 year',0, inplace=True)"
   ]
  },
  {
   "cell_type": "code",
   "execution_count": 49,
   "id": "eb4f04a1",
   "metadata": {},
   "outputs": [
    {
     "data": {
      "text/plain": [
       "array([nan, '7', '17', '3', '4', '6', '16', '12', '15', '10', '40', '9',\n",
       "       '26', '14', '39', '20', '8', '19', '5', 0, '22', '2', '1', '34',\n",
       "       '21', '13', '25', '24', '30', '31', '18', '38', 51, '27', '41',\n",
       "       '42', '35', '23', '28', '11', '37', '44', '43', '36', '33', '45',\n",
       "       '29', '50', '46', '32', '47', '49', '48'], dtype=object)"
      ]
     },
     "execution_count": 49,
     "metadata": {},
     "output_type": "execute_result"
    }
   ],
   "source": [
    "df['YearsCode'].unique()"
   ]
  },
  {
   "cell_type": "code",
   "execution_count": 50,
   "id": "4ea73b5b",
   "metadata": {},
   "outputs": [],
   "source": [
    "df['YearsCode'] = df['YearsCode'].astype(float)"
   ]
  },
  {
   "cell_type": "code",
   "execution_count": 51,
   "id": "265497c6",
   "metadata": {},
   "outputs": [
    {
     "data": {
      "text/plain": [
       "10.0"
      ]
     },
     "execution_count": 51,
     "metadata": {},
     "output_type": "execute_result"
    }
   ],
   "source": [
    "df['YearsCode'].median()"
   ]
  },
  {
   "cell_type": "code",
   "execution_count": 52,
   "id": "d8d1e52c",
   "metadata": {},
   "outputs": [
    {
     "data": {
      "text/plain": [
       "12.338200169032717"
      ]
     },
     "execution_count": 52,
     "metadata": {},
     "output_type": "execute_result"
    }
   ],
   "source": [
    "df['YearsCode'].mean()"
   ]
  },
  {
   "cell_type": "code",
   "execution_count": 53,
   "id": "49b17cfa",
   "metadata": {
    "scrolled": true
   },
   "outputs": [
    {
     "data": {
      "text/plain": [
       "11.0"
      ]
     },
     "execution_count": 53,
     "metadata": {},
     "output_type": "execute_result"
    }
   ],
   "source": [
    "round(country['YearsCode'].mean().sort_values(ascending=False)).loc['Poland']"
   ]
  },
  {
   "cell_type": "code",
   "execution_count": null,
   "id": "2a601933",
   "metadata": {},
   "outputs": [],
   "source": []
  }
 ],
 "metadata": {
  "kernelspec": {
   "display_name": "Python 3 (ipykernel)",
   "language": "python",
   "name": "python3"
  },
  "language_info": {
   "codemirror_mode": {
    "name": "ipython",
    "version": 3
   },
   "file_extension": ".py",
   "mimetype": "text/x-python",
   "name": "python",
   "nbconvert_exporter": "python",
   "pygments_lexer": "ipython3",
   "version": "3.9.7"
  }
 },
 "nbformat": 4,
 "nbformat_minor": 5
}
